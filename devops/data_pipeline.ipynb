{
 "cells": [
  {
   "cell_type": "markdown",
   "id": "e20a241f",
   "metadata": {},
   "source": [
    "## Get Project VM"
   ]
  },
  {
   "cell_type": "code",
   "execution_count": null,
   "id": "025268dd",
   "metadata": {},
   "outputs": [],
   "source": [
    "from chi import server, context\n",
    "import chi, os, time, datetime, yaml\n",
    "context.version = \"1.0\" \n",
    "context.choose_project()\n",
    "context.choose_site(default=\"KVM@TACC\")"
   ]
  },
  {
   "cell_type": "code",
   "execution_count": null,
   "id": "20ac3a4f",
   "metadata": {},
   "outputs": [],
   "source": [
    "s = server.Server(\n",
    "    f\"node1-project16\",\n",
    "    image_name=\"CC-Ubuntu24.04\",\n",
    "    flavor_name=\"m1.medium\"\n",
    ")\n",
    "\n",
    "s.submit(idempotent=True)"
   ]
  },
  {
   "cell_type": "markdown",
   "id": "b1dfd674",
   "metadata": {},
   "source": [
    "### Install Docker"
   ]
  },
  {
   "cell_type": "code",
   "execution_count": null,
   "id": "1c26040e",
   "metadata": {},
   "outputs": [],
   "source": [
    "s.execute(\"curl -sSL https://get.docker.com/ | sudo sh\")\n",
    "s.execute(\"sudo groupadd -f docker; sudo usermod -aG docker $USER\")"
   ]
  },
  {
   "cell_type": "markdown",
   "id": "65686547",
   "metadata": {},
   "source": [
    "### Get the docker yaml files"
   ]
  },
  {
   "cell_type": "code",
   "execution_count": null,
   "id": "495fb6ac",
   "metadata": {},
   "outputs": [],
   "source": [
    "s.execute(\"git clone https://github.com/jasonmoon97/dynamic_nba_scheduling.git\")"
   ]
  },
  {
   "cell_type": "markdown",
   "id": "19052083",
   "metadata": {},
   "source": [
    "### Set up RClone"
   ]
  },
  {
   "cell_type": "code",
   "execution_count": null,
   "id": "a69fc275",
   "metadata": {},
   "outputs": [],
   "source": [
    "s.execute(\"curl https://rclone.org/install.sh | sudo bash\")\n",
    "s.execute(\"sudo sed -i '/^#user_allow_other/s/^#//' /etc/fuse.conf\")\n",
    "\n",
    "s.execute(\"mkdir -p ~/.config/rclone\")\n",
    "\n",
    "with open(\"clouds.yaml\", \"r\") as file:\n",
    "    secret = yaml.safe_load(file)\n",
    "\n",
    "cloud_config = secret[\"clouds\"][\"chi_tacc\"]\n",
    "auth = cloud_config[\"auth\"]\n",
    "\n",
    "application_credential_id = auth[\"application_credential_id\"]\n",
    "application_credential_secret = auth[\"application_credential_secret\"]\n",
    "\n",
    "rclone_configs = f\"\"\"\n",
    "[chi_tacc]\n",
    "type = swift\n",
    "user_id = 12c0ee0dd863e5fc52f1cb58899047dc431eba2bceb29f15984a05bf9c0bba8f\n",
    "application_credential_id = {application_credential_id}\n",
    "application_credential_secret = {application_credential_secret}\n",
    "auth = https://chi.tacc.chameleoncloud.org:5000/v3\n",
    "region = CHI@TACC\n",
    "\"\"\"\n",
    "\n",
    "safe_rclone = rclone_configs.strip()\n",
    "\n",
    "s.execute(f\"\"\" cat <<EOF > ~/.config/rclone/rclone.conf\n",
    "{safe_rclone}\n",
    "EOF\n",
    "\"\"\")"
   ]
  },
  {
   "cell_type": "markdown",
   "id": "4ad3d734",
   "metadata": {},
   "source": [
    "## ETL for Training"
   ]
  },
  {
   "cell_type": "markdown",
   "id": "418dfcd9",
   "metadata": {},
   "source": [
    "### Extract Data"
   ]
  },
  {
   "cell_type": "code",
   "execution_count": null,
   "id": "dd033e26",
   "metadata": {},
   "outputs": [],
   "source": [
    "s.execute(\"docker compose -f ~/dynamic_nba_scheduling/data_engineering/docker/docker-etl.yaml run extract-data\")"
   ]
  },
  {
   "cell_type": "markdown",
   "id": "eab1db57",
   "metadata": {},
   "source": [
    "### Transform Data"
   ]
  },
  {
   "cell_type": "code",
   "execution_count": null,
   "id": "bc11cfc4",
   "metadata": {},
   "outputs": [],
   "source": [
    "s.execute(\"docker compose -f ~/dynamic_nba_scheduling/data_engineering/docker/docker-etl.yaml run transform-data\")"
   ]
  },
  {
   "cell_type": "markdown",
   "id": "bd9aa3e3",
   "metadata": {},
   "source": [
    "### Load Data to Object Store"
   ]
  },
  {
   "cell_type": "code",
   "execution_count": null,
   "id": "d2dff737",
   "metadata": {},
   "outputs": [],
   "source": [
    "s.execute(\"export RCLONE_CONTAINER=object-persist-project16\")\n",
    "s.execute(\"docker compose -f ~/dynamic_nba_scheduling/data_engineering/docker/docker-etl.yaml run load-data\")"
   ]
  },
  {
   "cell_type": "markdown",
   "id": "4fabfe57",
   "metadata": {},
   "source": [
    "## ETL for Online Eval Using Synthetic Data"
   ]
  },
  {
   "cell_type": "markdown",
   "id": "c673afbe",
   "metadata": {},
   "source": [
    "### Use the extracted data in the docker volume, then generate syntehtic data"
   ]
  },
  {
   "cell_type": "code",
   "execution_count": null,
   "id": "b7d8f517",
   "metadata": {},
   "outputs": [],
   "source": [
    "s.execute(\"docker compose -f ~/dynamic_nba_scheduling/data_engineering/docker/docker-online.yaml run generate-data\")"
   ]
  },
  {
   "cell_type": "markdown",
   "id": "a098dc93",
   "metadata": {},
   "source": [
    "### Load the synthetic data"
   ]
  },
  {
   "cell_type": "code",
   "execution_count": null,
   "id": "c2683cd1",
   "metadata": {},
   "outputs": [],
   "source": [
    "s.execute(\"docker compose -f ~/dynamic_nba_scheduling/data_engineering/docker/docker-online.yaml run load-data\")"
   ]
  },
  {
   "cell_type": "markdown",
   "id": "d9b656c6",
   "metadata": {},
   "source": [
    "## Mount the object Store"
   ]
  },
  {
   "cell_type": "code",
   "execution_count": null,
   "id": "659c6207",
   "metadata": {},
   "outputs": [],
   "source": [
    "s.execute(\"sudo mkdir -p /mnt/object\")\n",
    "s.execute(\"sudo chown -R cc /mnt/object\")\n",
    "s.execute(\"sudo chgrp -R cc /mnt/object\")\n",
    "s.execute(\"rclone mount chi_tacc:object-persist-project16 /mnt/object --read-only --allow-other --daemon\")\n",
    "s.execute(\"ls /mnt/object\")"
   ]
  },
  {
   "cell_type": "markdown",
   "id": "8b8be8e4",
   "metadata": {},
   "source": [
    "## Stop the docker volume and the VM"
   ]
  },
  {
   "cell_type": "code",
   "execution_count": null,
   "id": "90911e64",
   "metadata": {},
   "outputs": [],
   "source": [
    "s.execute(\"docker volume rm team16-etl_nbamodel\")"
   ]
  },
  {
   "cell_type": "code",
   "execution_count": null,
   "id": "9f2da37c",
   "metadata": {},
   "outputs": [],
   "source": [
    "s.delete()"
   ]
  }
 ],
 "metadata": {
  "language_info": {
   "name": "python"
  }
 },
 "nbformat": 4,
 "nbformat_minor": 5
}
