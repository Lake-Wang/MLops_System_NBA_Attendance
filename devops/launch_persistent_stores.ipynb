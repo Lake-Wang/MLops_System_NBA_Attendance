{
 "cells": [
  {
   "cell_type": "markdown",
   "id": "25c9fb80",
   "metadata": {},
   "source": [
    "# Launch a VM"
   ]
  },
  {
   "cell_type": "code",
   "execution_count": null,
   "id": "95ad38e0",
   "metadata": {},
   "outputs": [],
   "source": [
    "from chi import server, context\n",
    "import chi, os, time, datetime\n",
    "import swiftclient\n",
    "\n",
    "context.version = \"1.0\" \n",
    "context.choose_project()\n",
    "context.choose_site(default=\"KVM@TACC\")"
   ]
  },
  {
   "cell_type": "code",
   "execution_count": null,
   "id": "15237323",
   "metadata": {},
   "outputs": [],
   "source": [
    "s = server.Server(\n",
    "    f\"node1-project16\",\n",
    "    image_name=\"CC-Ubuntu24.04\",\n",
    "    flavor_name=\"m1.medium\"\n",
    ")\n",
    "\n",
    "s.submit(idempotent=True)"
   ]
  },
  {
   "cell_type": "code",
   "execution_count": null,
   "id": "9eded1c6",
   "metadata": {},
   "outputs": [],
   "source": [
    "s.associate_floating_ip()\n",
    "s.refresh()\n",
    "s.show(type=\"widget\")"
   ]
  },
  {
   "cell_type": "code",
   "execution_count": null,
   "id": "338dc8f4",
   "metadata": {},
   "outputs": [],
   "source": [
    "security_groups = [\n",
    "  {'name': \"allow-ssh\", 'port': 22, 'description': \"Enable SSH traffic on TCP port 22\"},\n",
    "  {'name': \"allow-8888\", 'port': 8888, 'description': \"Enable TCP port 8888 (used by Jupyter)\"},\n",
    "  {'name': \"allow-8000\", 'port': 8000, 'description': \"Enable TCP port 8000 (used by MLFlow)\"},\n",
    "  {'name': \"allow-9000\", 'port': 9000, 'description': \"Enable TCP port 9000 (used by MinIO API)\"},\n",
    "  {'name': \"allow-9001\", 'port': 9001, 'description': \"Enable TCP port 9001 (used by MinIO Web UI)\"}\n",
    "]\n",
    "\n",
    "os_conn = chi.clients.connection()\n",
    "nova_server = chi.nova().servers.get(s.id)\n",
    "\n",
    "for sg in security_groups:\n",
    "  if not os_conn.get_security_group(sg['name']):\n",
    "      os_conn.create_security_group(sg['name'], sg['description'])\n",
    "      os_conn.create_security_group_rule(sg['name'], port_range_min=sg['port'], port_range_max=sg['port'], protocol='tcp', remote_ip_prefix='0.0.0.0/0')\n",
    "  nova_server.add_security_group(sg['name'])\n",
    "\n",
    "s.refresh()\n",
    "s.check_connectivity()"
   ]
  },
  {
   "cell_type": "markdown",
   "id": "a2244fc3",
   "metadata": {},
   "source": [
    "## Bring up a block storage and mount"
   ]
  },
  {
   "cell_type": "code",
   "execution_count": null,
   "id": "8b7037c3",
   "metadata": {},
   "outputs": [],
   "source": [
    "cinder_client = chi.clients.cinder()\n",
    "\n",
    "volume = cinder_client.volumes.create(name=f\"block-persist-project16\", size=4)\n",
    "\n",
    "server_id = chi.server.get_server(f\"node1-project16\").id\n",
    "volume_manager = chi.nova().volumes\n",
    "volume_manager.create_server_volume(server_id = s.id, volume_id = volume.id, device=\"/dev/vdb\")"
   ]
  },
  {
   "cell_type": "code",
   "execution_count": null,
   "id": "93c1bda0",
   "metadata": {},
   "outputs": [],
   "source": [
    "s.execute(\"lsblk\")"
   ]
  },
  {
   "cell_type": "code",
   "execution_count": null,
   "id": "660b0ccb",
   "metadata": {},
   "outputs": [],
   "source": [
    "s.execute(\"sudo parted -s /dev/vdb mklabel gpt\")\n",
    "s.execute(\"sudo parted -s /dev/vdb mkpart primary ext4 0% 100%\")\n",
    "s.execute(\"sudo mkfs.ext4 /dev/vdb1\")\n",
    "s.execute(\"sudo mkdir -p /mnt/block\")\n",
    "s.execute(\"sudo mount /dev/vdb1 /mnt/block\")\n",
    "s.execute(\"sudo chown -R cc /mnt/block\")\n",
    "s.execute(\"sudo chgrp -R cc /mnt/block\")\n",
    "s.execute(\"df -h\")"
   ]
  },
  {
   "cell_type": "markdown",
   "id": "4d2f20e3",
   "metadata": {},
   "source": [
    "## Bring up an Object Storage"
   ]
  },
  {
   "cell_type": "code",
   "execution_count": null,
   "id": "bb9e1196",
   "metadata": {},
   "outputs": [],
   "source": [
    "context.choose_project()\n",
    "context.choose_site(default=\"CHI@TACC\")\n",
    "\n",
    "os_conn = chi.clients.connection()\n",
    "token = os_conn.authorize()\n",
    "storage_url = os_conn.object_store.get_endpoint()\n",
    "\n",
    "swift_conn = swiftclient.Connection(preauthurl=storage_url,\n",
    "                                    preauthtoken=token,\n",
    "                                    retries=5)\n",
    "\n",
    "container_name = \"object-persist-project16\"\n",
    "\n",
    "swift_conn.put_container(container_name)"
   ]
  }
 ],
 "metadata": {
  "language_info": {
   "name": "python"
  }
 },
 "nbformat": 4,
 "nbformat_minor": 5
}
