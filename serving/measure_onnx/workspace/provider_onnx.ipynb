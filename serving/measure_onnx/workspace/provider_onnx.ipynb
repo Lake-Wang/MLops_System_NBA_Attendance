{
 "cells": [
  {
   "cell_type": "code",
   "execution_count": null,
   "metadata": {},
   "outputs": [],
   "source": [
    "import os\n",
    "import time\n",
    "import numpy as np\n",
    "import pandas as pd\n",
    "import torch\n",
    "import onnx\n",
    "import onnxruntime as ort\n",
    "from torch.utils.data import DataLoader, TensorDataset\n",
    "from sklearn.preprocessing import StandardScaler\n"
   ]
  },
  {
   "cell_type": "code",
   "execution_count": null,
   "metadata": {},
   "outputs": [],
   "source": [
    "# Read data\n",
    "base_data_dir = os.getenv(\"NBA_DATA_DIR\", \"nba_data\")\n",
    "\n",
    "X1_train = pd.read_csv(os.path.join(base_data_dir, 'train/X_train_model1.csv'))\n",
    "X1_test = pd.read_csv(os.path.join(base_data_dir, 'train/X_test_model1.csv'))\n",
    "Y1_train = pd.read_csv(os.path.join(base_data_dir, 'train/Y_train_model1.csv'))\n",
    "Y1_test = pd.read_csv(os.path.join(base_data_dir, 'train/Y_test_model1.csv'))\n",
    "\n",
    "# Convert to tensors, pass to dataloader\n",
    "X1_train = torch.tensor(X1_train.values, dtype=torch.float32)\n",
    "X1_test = torch.tensor(X1_test.values, dtype=torch.float32)\n",
    "Y1_train = torch.tensor(Y1_train.values, dtype=torch.float32)\n",
    "Y1_test = torch.tensor(Y1_test.values, dtype=torch.float32)\n",
    "\n",
    "train1_data = TensorDataset(X1_train, Y1_train)\n",
    "test1_data = TensorDataset(X1_test, Y1_test)\n",
    "\n",
    "train1_loader = DataLoader(train1_data, batch_size=32, shuffle=True)\n",
    "test1_loader = DataLoader(test1_data, batch_size=32, shuffle=False)\n"
   ]
  },
  {
   "cell_type": "code",
   "execution_count": null,
   "metadata": {},
   "outputs": [],
   "source": [
    "def benchmark_session(ort_session):\n",
    "    print(f\"Execution provider: {ort_session.get_providers()}\")\n",
    "\n",
    "    total_mae = 0\n",
    "    total = 0\n",
    "    for features, labels in test2_loader:\n",
    "        outputs = ort_session.run(None, {ort_session.get_inputs()[0].name: features.numpy()})[0]\n",
    "        mae = np.abs(outputs - labels.numpy()).sum()\n",
    "        total_mae += mae\n",
    "        total += labels.size(0)\n",
    "    mae = total_mae / total\n",
    "    print(f\"Mean Absolute Error (MAE): {mae:.2f}\")\n",
    "\n",
    "    num_trials = 100\n",
    "    single_sample = X2_test[0].unsqueeze(0).numpy()\n",
    "    ort_session.run(None, {ort_session.get_inputs()[0].name: single_sample})\n",
    "    latencies = []\n",
    "    for _ in range(num_trials):\n",
    "        start = time.time()\n",
    "        ort_session.run(None, {ort_session.get_inputs()[0].name: single_sample})\n",
    "        latencies.append(time.time() - start)\n",
    "    print(f\"Inference Latency (median): {np.percentile(latencies, 50) * 1000:.2f} ms\")\n",
    "    print(f\"Inference Throughput (single sample): {num_trials/np.sum(latencies):.2f} FPS\")\n",
    "\n",
    "    num_batches = 50\n",
    "    batch_input = X2_test[:32].numpy()\n",
    "    ort_session.run(None, {ort_session.get_inputs()[0].name: batch_input})\n",
    "    batch_times = []\n",
    "    for _ in range(num_batches):\n",
    "        start = time.time()\n",
    "        ort_session.run(None, {ort_session.get_inputs()[0].name: batch_input})\n",
    "        batch_times.append(time.time() - start)\n",
    "    batch_fps = (batch_input.shape[0] * num_batches) / np.sum(batch_times)\n",
    "    print(f\"Batch Throughput: {batch_fps:.2f} FPS\")\n"
   ]
  },
  {
   "cell_type": "code",
   "execution_count": null,
   "metadata": {},
   "outputs": [],
   "source": [
    "onnx_model_path = \"models/model2.onnx\"\n",
    "ort_session = ort.InferenceSession(onnx_model_path, providers=['CPUExecutionProvider'])\n",
    "benchmark_session(ort_session)\n"
   ]
  },
  {
   "cell_type": "code",
   "execution_count": null,
   "metadata": {},
   "outputs": [],
   "source": [
    "onnx_model_path = \"models/model2.onnx\"\n",
    "ort_session = ort.InferenceSession(onnx_model_path, providers=['CUDAExecutionProvider'])\n",
    "benchmark_session(ort_session)\n",
    "ort.get_device()\n"
   ]
  },
  {
   "cell_type": "code",
   "execution_count": null,
   "metadata": {},
   "outputs": [],
   "source": [
    "onnx_model_path = \"models/model2.onnx\"\n",
    "ort_session = ort.InferenceSession(onnx_model_path, providers=['TensorrtExecutionProvider'])\n",
    "benchmark_session(ort_session)\n",
    "ort.get_device()\n"
   ]
  },
  {
   "cell_type": "code",
   "execution_count": null,
   "metadata": {},
   "outputs": [],
   "source": [
    "onnx_model_path = \"models/model2.onnx\"\n",
    "ort_session = ort.InferenceSession(onnx_model_path, providers=['OpenVINOExecutionProvider'])\n",
    "benchmark_session(ort_session)\n",
    "ort.get_device()\n"
   ]
  }
 ],
 "metadata": {
  "kernelspec": {
   "display_name": "Python 3 (ipykernel)",
   "language": "python",
   "name": "python3"
  },
  "language_info": {
   "codemirror_mode": {
    "name": "ipython",
    "version": "3"
   },
   "file_extension": ".py",
   "mimetype": "text/x-python",
   "name": "python"
  }
 },
 "nbformat": 4,
 "nbformat_minor": 4
}
