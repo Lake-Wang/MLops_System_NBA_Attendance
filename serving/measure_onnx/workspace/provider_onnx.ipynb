{
 "cells": [
  {
   "cell_type": "code",
   "execution_count": 1,
   "metadata": {},
   "outputs": [],
   "source": [
    "import os\n",
    "import time\n",
    "import numpy as np\n",
    "import pandas as pd\n",
    "import torch\n",
    "import onnx\n",
    "import onnxruntime as ort\n",
    "from torch.utils.data import DataLoader, TensorDataset\n",
    "from sklearn.preprocessing import StandardScaler\n"
   ]
  },
  {
   "cell_type": "code",
   "execution_count": 2,
   "metadata": {},
   "outputs": [],
   "source": [
    "# Read data\n",
    "base_data_dir = os.getenv(\"NBA_DATA_DIR\", \"nba_data\")\n",
    "\n",
    "X1_train = pd.read_csv(os.path.join(base_data_dir, 'train/X_train_model1.csv'))\n",
    "X1_train = X1_train.drop('gameId', axis=1)\n",
    "X1_test = pd.read_csv(os.path.join(base_data_dir, 'test/X_test_model1.csv'))\n",
    "X1_test = X1_test.drop('gameId', axis=1)\n",
    "\n",
    "Y1_train = pd.read_csv(os.path.join(base_data_dir, 'train/Y_train_model1.csv'))\n",
    "Y1_test = pd.read_csv(os.path.join(base_data_dir, 'test/Y_test_model1.csv'))\n",
    "full1_df = pd.read_csv(os.path.join(base_data_dir, 'train/full_stats.csv'))\n",
    "\n",
    "X_save_cols = X1_train.columns\n",
    "\n",
    "# Convert to tensors, pass to dataloader\n",
    "X1_train = torch.tensor(X1_train.values, dtype=torch.float32)\n",
    "X1_test = torch.tensor(X1_test.values, dtype=torch.float32)\n",
    "Y1_train = torch.tensor(Y1_train.values, dtype=torch.float32)\n",
    "Y1_test = torch.tensor(Y1_test.values, dtype=torch.float32)\n",
    "\n",
    "train1_data = TensorDataset(X1_train, Y1_train)\n",
    "test1_data = TensorDataset(X1_test, Y1_test)\n",
    "\n",
    "train1_loader = DataLoader(train1_data, batch_size=32, shuffle=True)\n",
    "test1_loader = DataLoader(test1_data, batch_size=32, shuffle=False)\n",
    "\n",
    "game_ids = full1_df['gameId'].values\n"
   ]
  },
  {
   "cell_type": "code",
   "execution_count": 3,
   "metadata": {},
   "outputs": [
    {
     "name": "stderr",
     "output_type": "stream",
     "text": [
      "/tmp/ipykernel_3496/1191081072.py:3: FutureWarning: You are using `torch.load` with `weights_only=False` (the current default value), which uses the default pickle module implicitly. It is possible to construct malicious pickle data which will execute arbitrary code during unpickling (See https://github.com/pytorch/pytorch/blob/main/SECURITY.md#untrusted-models for more details). In a future release, the default value for `weights_only` will be flipped to `True`. This limits the functions that could be executed during unpickling. Arbitrary objects will no longer be allowed to be loaded via this mode unless they are explicitly allowlisted by the user via `torch.serialization.add_safe_globals`. We recommend you start setting `weights_only=True` for any use case where you don't have full control of the loaded file. Please open an issue on GitHub for any issues related to this experimental feature.\n",
      "  model1 = torch.load(model_path, map_location=device)\n"
     ]
    }
   ],
   "source": [
    "model_path = \"models/point_diff.pth\"\n",
    "device = torch.device(\"cuda\" if torch.cuda.is_available() else \"cpu\")\n",
    "model1 = torch.load(model_path, map_location=device)\n",
    "model1.eval()\n",
    "\n",
    "predictions = []\n",
    "extract_df = full1_df[X_save_cols].values\n",
    "X_tensor = torch.FloatTensor(extract_df).to(device)\n",
    "with torch.no_grad():\n",
    "    # Processsing in batches\n",
    "    batch_size = 32\n",
    "\n",
    "    for i in range(0, len(X_tensor), batch_size):\n",
    "        batch = X_tensor[i:i+batch_size]\n",
    "\n",
    "        # FF, convert to numpy\n",
    "        batch_preds = model1(batch)\n",
    "        predictions.append(batch_preds.cpu().numpy())\n",
    "\n",
    "# Combine all predictions\n",
    "all_predictions = np.concatenate(predictions, axis=0)\n",
    "\n",
    "# Return results\n",
    "result_df = pd.DataFrame({\n",
    "    'gameId': game_ids,\n",
    "    'predicted_point_diff': all_predictions.flatten()\n",
    "})"
   ]
  },
  {
   "cell_type": "code",
   "execution_count": 4,
   "metadata": {},
   "outputs": [],
   "source": [
    "X2_train = pd.read_csv(os.path.join(base_data_dir, 'train/X_train_model2.csv'))\n",
    "X2_test = pd.read_csv(os.path.join(base_data_dir, 'test/X_test_model2.csv'))\n",
    "Y2_train = pd.read_csv(os.path.join(base_data_dir, 'train/Y_train_model2.csv'))\n",
    "Y2_test = pd.read_csv(os.path.join(base_data_dir, 'test/Y_test_model2.csv'))\n",
    "\n",
    "X2_train = X2_train.merge(result_df, on='gameId', how='inner')\n",
    "X2_train = X2_train.drop('gameId', axis=1)\n",
    "X2_test = X2_test.merge(result_df, on='gameId', how='inner')\n",
    "X2_test = X2_test.drop('gameId', axis=1)\n",
    "full2_df = pd.read_csv(os.path.join(base_data_dir, 'train/full_attendance.csv'))\n",
    "full2_df = full2_df.merge(result_df, on='gameId', how='inner')\n",
    "\n",
    "X2_train = torch.tensor(X2_train.values, dtype=torch.float32)\n",
    "X2_test = torch.tensor(X2_test.values, dtype=torch.float32)\n",
    "Y2_train = torch.tensor(Y2_train.values, dtype=torch.float32)\n",
    "Y2_test = torch.tensor(Y2_test.values, dtype=torch.float32)\n",
    "\n",
    "train2_data = TensorDataset(X2_train, Y2_train)\n",
    "test2_data = TensorDataset(X2_test, Y2_test)\n",
    "train2_loader = DataLoader(train2_data, batch_size=32, shuffle=True)\n",
    "test2_loader = DataLoader(test2_data, batch_size=32, shuffle=False)"
   ]
  },
  {
   "cell_type": "code",
   "execution_count": 5,
   "metadata": {},
   "outputs": [],
   "source": [
    "def benchmark_session(ort_session):\n",
    "    print(f\"Execution provider: {ort_session.get_providers()}\")\n",
    "\n",
    "    total_mse = 0\n",
    "    total = 0\n",
    "    for features, labels in test2_loader:\n",
    "        outputs = ort_session.run(None, {ort_session.get_inputs()[0].name: features.numpy()})[0]\n",
    "        mse = ((outputs - labels.numpy()) ** 2).sum()\n",
    "        total_mse += mse\n",
    "        total += labels.size(0)\n",
    "    print(f\"Mean Absolute Error (MAE): {total_mse / total:.2f}\")\n",
    "\n",
    "    num_trials = 100\n",
    "    single_sample = X2_test[0].unsqueeze(0).numpy()\n",
    "    ort_session.run(None, {ort_session.get_inputs()[0].name: single_sample})\n",
    "    latencies = []\n",
    "    for _ in range(num_trials):\n",
    "        start = time.time()\n",
    "        ort_session.run(None, {ort_session.get_inputs()[0].name: single_sample})\n",
    "        latencies.append(time.time() - start)\n",
    "    print(f\"Inference Latency (median): {np.percentile(latencies, 50) * 1000:.2f} ms\")\n",
    "    print(f\"Inference Throughput: {num_trials / np.sum(latencies):.2f} FPS\")\n",
    "\n",
    "    num_batches = 50\n",
    "    batch_input = X2_test[:32].numpy()\n",
    "    ort_session.run(None, {ort_session.get_inputs()[0].name: batch_input})\n",
    "    batch_times = []\n",
    "    for _ in range(num_batches):\n",
    "        start = time.time()\n",
    "        ort_session.run(None, {ort_session.get_inputs()[0].name: batch_input})\n",
    "        batch_times.append(time.time() - start)\n",
    "    print(f\"Batch Throughput: {(batch_input.shape[0] * num_batches) / np.sum(batch_times):.2f} FPS\")\n"
   ]
  },
  {
   "cell_type": "code",
   "execution_count": 6,
   "metadata": {},
   "outputs": [
    {
     "name": "stdout",
     "output_type": "stream",
     "text": [
      "Execution provider: ['CPUExecutionProvider']\n",
      "Mean Absolute Error (MAE): 1363096.76\n",
      "Inference Latency (median): 0.11 ms\n",
      "Inference Throughput: 8797.15 FPS\n",
      "Batch Throughput: 64025.40 FPS\n"
     ]
    }
   ],
   "source": [
    "onnx_model_path = \"models/model2.onnx\"\n",
    "ort_session = ort.InferenceSession(onnx_model_path, providers=['CPUExecutionProvider'])\n",
    "benchmark_session(ort_session)\n"
   ]
  },
  {
   "cell_type": "code",
   "execution_count": null,
   "metadata": {},
   "outputs": [],
   "source": [
    "onnx_model_path = \"models/model2.onnx\"\n",
    "ort_session = ort.InferenceSession(onnx_model_path, providers=['CUDAExecutionProvider'])\n",
    "benchmark_session(ort_session)\n",
    "ort.get_device()\n"
   ]
  },
  {
   "cell_type": "code",
   "execution_count": null,
   "metadata": {},
   "outputs": [],
   "source": [
    "onnx_model_path = \"models/model2.onnx\"\n",
    "ort_session = ort.InferenceSession(onnx_model_path, providers=['TensorrtExecutionProvider'])\n",
    "benchmark_session(ort_session)\n",
    "ort.get_device()\n"
   ]
  },
  {
   "cell_type": "code",
   "execution_count": null,
   "metadata": {},
   "outputs": [],
   "source": [
    "onnx_model_path = \"models/model2.onnx\"\n",
    "ort_session = ort.InferenceSession(onnx_model_path, providers=['OpenVINOExecutionProvider'])\n",
    "benchmark_session(ort_session)\n",
    "ort.get_device()\n"
   ]
  }
 ],
 "metadata": {
  "kernelspec": {
   "display_name": "Python 3 (ipykernel)",
   "language": "python",
   "name": "python3"
  },
  "language_info": {
   "codemirror_mode": {
    "name": "ipython",
    "version": 3
   },
   "file_extension": ".py",
   "mimetype": "text/x-python",
   "name": "python",
   "nbconvert_exporter": "python",
   "pygments_lexer": "ipython3",
   "version": "3.12.8"
  }
 },
 "nbformat": 4,
 "nbformat_minor": 4
}
