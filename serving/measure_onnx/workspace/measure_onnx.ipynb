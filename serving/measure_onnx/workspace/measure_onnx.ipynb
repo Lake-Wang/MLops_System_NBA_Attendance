{
 "cells": [
  {
   "cell_type": "code",
   "execution_count": 1,
   "metadata": {},
   "outputs": [],
   "source": [
    "import os\n",
    "import time\n",
    "import onnx\n",
    "import onnxruntime as ort\n",
    "from utils import *"
   ]
  },
  {
   "cell_type": "code",
   "execution_count": 2,
   "metadata": {},
   "outputs": [],
   "source": [
    "# Read data\n",
    "base_data_dir = os.getenv(\"NBA_DATA_DIR\", \"nba_data\")\n",
    "\n",
    "X1_train = pd.read_csv(os.path.join(base_data_dir, 'train/X_train_model1.csv'))\n",
    "X1_train = X1_train.drop('gameId', axis=1)\n",
    "X1_test = pd.read_csv(os.path.join(base_data_dir, 'test/X_test_model1.csv'))\n",
    "X1_test = X1_test.drop('gameId', axis=1)\n",
    "\n",
    "Y1_train = pd.read_csv(os.path.join(base_data_dir, 'train/Y_train_model1.csv'))\n",
    "Y1_test = pd.read_csv(os.path.join(base_data_dir, 'test/Y_test_model1.csv'))\n",
    "full1_df = pd.read_csv(os.path.join(base_data_dir, 'train/full_stats.csv'))\n",
    "\n",
    "X_save_cols = X1_train.columns\n",
    "\n",
    "# Convert to tensors, pass to dataloader\n",
    "X1_train = torch.tensor(X1_train.values, dtype=torch.float32)\n",
    "X1_test = torch.tensor(X1_test.values, dtype=torch.float32)\n",
    "Y1_train = torch.tensor(Y1_train.values, dtype=torch.float32)\n",
    "Y1_test = torch.tensor(Y1_test.values, dtype=torch.float32)\n",
    "\n",
    "train1_data = TensorDataset(X1_train, Y1_train)\n",
    "test1_data = TensorDataset(X1_test, Y1_test)\n",
    "\n",
    "train1_loader = DataLoader(train1_data, batch_size=32, shuffle=True)\n",
    "test1_loader = DataLoader(test1_data, batch_size=32, shuffle=False)\n",
    "\n",
    "game_ids = full1_df['gameId'].values\n"
   ]
  },
  {
   "cell_type": "code",
   "execution_count": 3,
   "metadata": {
    "collapsed": false,
    "jupyter": {
     "outputs_hidden": false
    }
   },
   "outputs": [
    {
     "name": "stderr",
     "output_type": "stream",
     "text": [
      "/tmp/ipykernel_2250/4086482454.py:3: FutureWarning: You are using `torch.load` with `weights_only=False` (the current default value), which uses the default pickle module implicitly. It is possible to construct malicious pickle data which will execute arbitrary code during unpickling (See https://github.com/pytorch/pytorch/blob/main/SECURITY.md#untrusted-models for more details). In a future release, the default value for `weights_only` will be flipped to `True`. This limits the functions that could be executed during unpickling. Arbitrary objects will no longer be allowed to be loaded via this mode unless they are explicitly allowlisted by the user via `torch.serialization.add_safe_globals`. We recommend you start setting `weights_only=True` for any use case where you don't have full control of the loaded file. Please open an issue on GitHub for any issues related to this experimental feature.\n",
      "  model1 = torch.load(model_path, map_location=device)\n"
     ]
    },
    {
     "name": "stdout",
     "output_type": "stream",
     "text": [
      "ONNX model saved to models/model1.onnx\n"
     ]
    }
   ],
   "source": [
    "model_path = \"models/point_diff.pth\"\n",
    "device = torch.device(\"cuda\" if torch.cuda.is_available() else \"cpu\")\n",
    "model1 = torch.load(model_path, map_location=device)\n",
    "model1.eval()\n",
    "\n",
    "onnx_model1_path = \"models/model1.onnx\"\n",
    "dummy_input = torch.randn(1, X1_test.shape[1], dtype=torch.float32)\n",
    "\n",
    "torch.onnx.export(model1, dummy_input, onnx_model1_path,\n",
    "                  export_params=True, opset_version=20,\n",
    "                  do_constant_folding=True, input_names=['input'],\n",
    "                  output_names=['output'], dynamic_axes={\"input\": {0: \"batch_size\"}, \"output\": {0: \"batch_size\"}})\n",
    "\n",
    "print(f\"ONNX model saved to {onnx_model1_path}\")\n",
    "\n",
    "onnx_model1 = onnx.load(onnx_model1_path)\n",
    "onnx.checker.check_model(onnx_model1)"
   ]
  },
  {
   "cell_type": "code",
   "execution_count": 5,
   "metadata": {
    "collapsed": false,
    "jupyter": {
     "outputs_hidden": false
    }
   },
   "outputs": [],
   "source": [
    "predictions = []\n",
    "extract_df = full1_df[X_save_cols].values\n",
    "X_tensor = torch.FloatTensor(extract_df).to(device)\n",
    "with torch.no_grad():\n",
    "    # Processsing in batches\n",
    "    batch_size = 32\n",
    "\n",
    "    for i in range(0, len(X_tensor), batch_size):\n",
    "        batch = X_tensor[i:i+batch_size]\n",
    "\n",
    "        # FF, convert to numpy\n",
    "        batch_preds = model1(batch)\n",
    "        predictions.append(batch_preds.cpu().numpy())\n",
    "\n",
    "# Combine all predictions\n",
    "all_predictions = np.concatenate(predictions, axis=0)\n",
    "\n",
    "# Return results\n",
    "result_df = pd.DataFrame({\n",
    "    'gameId': game_ids,\n",
    "    'predicted_point_diff': all_predictions.flatten()\n",
    "})"
   ]
  },
  {
   "cell_type": "code",
   "execution_count": 6,
   "metadata": {
    "collapsed": false,
    "jupyter": {
     "outputs_hidden": false
    }
   },
   "outputs": [],
   "source": [
    "X2_train = pd.read_csv(os.path.join(base_data_dir, 'train/X_train_model2.csv'))\n",
    "X2_test = pd.read_csv(os.path.join(base_data_dir, 'test/X_test_model2.csv'))\n",
    "Y2_train = pd.read_csv(os.path.join(base_data_dir, 'train/Y_train_model2.csv'))\n",
    "Y2_test = pd.read_csv(os.path.join(base_data_dir, 'test/Y_test_model2.csv'))\n",
    "\n",
    "X2_train = X2_train.merge(result_df, on='gameId', how='inner')\n",
    "X2_train = X2_train.drop('gameId', axis=1)\n",
    "X2_test = X2_test.merge(result_df, on='gameId', how='inner')\n",
    "X2_test = X2_test.drop('gameId', axis=1)\n",
    "full2_df = pd.read_csv(os.path.join(base_data_dir, 'train/full_attendance.csv'))\n",
    "full2_df = full2_df.merge(result_df, on='gameId', how='inner')\n",
    "\n",
    "X2_train = torch.tensor(X2_train.values, dtype=torch.float32)\n",
    "X2_test = torch.tensor(X2_test.values, dtype=torch.float32)\n",
    "Y2_train = torch.tensor(Y2_train.values, dtype=torch.float32)\n",
    "Y2_test = torch.tensor(Y2_test.values, dtype=torch.float32)\n",
    "\n",
    "train2_data = TensorDataset(X2_train, Y2_train)\n",
    "test2_data = TensorDataset(X2_test, Y2_test)\n",
    "train2_loader = DataLoader(train2_data, batch_size=32, shuffle=True)\n",
    "test2_loader = DataLoader(test2_data, batch_size=32, shuffle=False)"
   ]
  },
  {
   "cell_type": "code",
   "execution_count": 7,
   "metadata": {
    "collapsed": false,
    "jupyter": {
     "outputs_hidden": false
    }
   },
   "outputs": [
    {
     "name": "stdout",
     "output_type": "stream",
     "text": [
      "ONNX model saved to models/model2.onnx\n"
     ]
    },
    {
     "name": "stderr",
     "output_type": "stream",
     "text": [
      "/tmp/ipykernel_2250/2876132223.py:2: FutureWarning: You are using `torch.load` with `weights_only=False` (the current default value), which uses the default pickle module implicitly. It is possible to construct malicious pickle data which will execute arbitrary code during unpickling (See https://github.com/pytorch/pytorch/blob/main/SECURITY.md#untrusted-models for more details). In a future release, the default value for `weights_only` will be flipped to `True`. This limits the functions that could be executed during unpickling. Arbitrary objects will no longer be allowed to be loaded via this mode unless they are explicitly allowlisted by the user via `torch.serialization.add_safe_globals`. We recommend you start setting `weights_only=True` for any use case where you don't have full control of the loaded file. Please open an issue on GitHub for any issues related to this experimental feature.\n",
      "  model2 = torch.load(model_path, map_location=device)\n"
     ]
    }
   ],
   "source": [
    "model_path = \"models/attendance_model.pth\"\n",
    "model2 = torch.load(model_path, map_location=device)\n",
    "model2.eval()\n",
    "\n",
    "onnx_model2_path = \"models/model2.onnx\"\n",
    "dummy_input = torch.randn(1, X2_test.shape[1], dtype=torch.float32)\n",
    "\n",
    "torch.onnx.export(model2, dummy_input, onnx_model2_path,\n",
    "                  export_params=True, opset_version=20,\n",
    "                  do_constant_folding=True, input_names=['input'],\n",
    "                  output_names=['output'], dynamic_axes={\"input\": {0: \"batch_size\"}, \"output\": {0: \"batch_size\"}})\n",
    "\n",
    "print(f\"ONNX model saved to {onnx_model2_path}\")\n",
    "\n",
    "onnx_model2 = onnx.load(onnx_model2_path)\n",
    "onnx.checker.check_model(onnx_model2)"
   ]
  },
  {
   "cell_type": "code",
   "execution_count": 8,
   "metadata": {
    "collapsed": false,
    "jupyter": {
     "outputs_hidden": false
    }
   },
   "outputs": [
    {
     "name": "stdout",
     "output_type": "stream",
     "text": [
      "Model Size on Disk: 3.55 MB\n",
      "Model Size on Disk: 2.93 MB\n"
     ]
    }
   ],
   "source": [
    "model1_size = os.path.getsize(onnx_model1_path)\n",
    "model2_size = os.path.getsize(onnx_model2_path)\n",
    "print(f\"Model Size on Disk: {model1_size / 1e6:.2f} MB\")\n",
    "print(f\"Model Size on Disk: {model2_size / 1e6:.2f} MB\")"
   ]
  },
  {
   "cell_type": "code",
   "execution_count": 12,
   "metadata": {},
   "outputs": [],
   "source": [
    "\n",
    "ort_session1 = ort.InferenceSession(onnx_model1_path, providers=['CPUExecutionProvider'])\n",
    "ort_session2 = ort.InferenceSession(onnx_model2_path, providers=['CPUExecutionProvider'])"
   ]
  },
  {
   "cell_type": "code",
   "execution_count": 13,
   "metadata": {},
   "outputs": [
    {
     "name": "stdout",
     "output_type": "stream",
     "text": [
      "Test R^2: 0.1917, Test RMSE: 14.2086, Test Model MSE Loss: 201.8852\n",
      "Test R^2: 0.4043, Test RMSE: 1175.3316, Test Model MSE Loss: 1381404.3058\n"
     ]
    }
   ],
   "source": [
    "criterion = nn.MSELoss()\n",
    "\n",
    "test1_r2, test1_rmse, test1_loss = validate(model1, test1_loader, criterion, device)\n",
    "print(f\"Test R^2: {test1_r2:.4f}, Test RMSE: {test1_rmse:.4f}, Test Model MSE Loss: {test1_loss:.4f}\")\n",
    "test2_r2, test2_rmse, test2_loss = validate(model2, test2_loader, criterion, device)\n",
    "print(f\"Test R^2: {test2_r2:.4f}, Test RMSE: {test2_rmse:.4f}, Test Model MSE Loss: {test2_loss:.4f}\")"
   ]
  },
  {
   "cell_type": "code",
   "execution_count": 14,
   "metadata": {},
   "outputs": [],
   "source": [
    "num_trials = 100\n",
    "single_sample = X2_test[0].unsqueeze(0).numpy()\n",
    "\n",
    "# Warm-up\n",
    "ort_session2.run(None, {ort_session2.get_inputs()[0].name: single_sample})\n",
    "\n",
    "latencies = []\n",
    "for _ in range(num_trials):\n",
    "    start_time = time.time()\n",
    "    ort_session2.run(None, {ort_session2.get_inputs()[0].name: single_sample})\n",
    "    latencies.append(time.time() - start_time)\n"
   ]
  },
  {
   "cell_type": "code",
   "execution_count": 15,
   "metadata": {},
   "outputs": [
    {
     "name": "stdout",
     "output_type": "stream",
     "text": [
      "Inference Latency (median): 0.14 ms\n",
      "Inference Latency (95th percentile): 0.26 ms\n",
      "Inference Latency (99th percentile): 1.16 ms\n",
      "Inference Throughput (single sample): 5475.59 FPS\n"
     ]
    }
   ],
   "source": [
    "print(f\"Inference Latency (median): {np.percentile(latencies, 50) * 1000:.2f} ms\")\n",
    "print(f\"Inference Latency (95th percentile): {np.percentile(latencies, 95) * 1000:.2f} ms\")\n",
    "print(f\"Inference Latency (99th percentile): {np.percentile(latencies, 99) * 1000:.2f} ms\")\n",
    "print(f\"Inference Throughput (single sample): {num_trials / np.sum(latencies):.2f} FPS\")\n"
   ]
  },
  {
   "cell_type": "code",
   "execution_count": 16,
   "metadata": {},
   "outputs": [
    {
     "name": "stdout",
     "output_type": "stream",
     "text": [
      "Batch Throughput: 47719.14 FPS\n"
     ]
    }
   ],
   "source": [
    "num_batches = 50\n",
    "batch_input = X2_test[:32].numpy()\n",
    "\n",
    "# Warm-up\n",
    "ort_session2.run(None, {ort_session2.get_inputs()[0].name: batch_input})\n",
    "\n",
    "batch_times = []\n",
    "for _ in range(num_batches):\n",
    "    start_time = time.time()\n",
    "    ort_session2.run(None, {ort_session2.get_inputs()[0].name: batch_input})\n",
    "    batch_times.append(time.time() - start_time)\n",
    "\n",
    "batch_fps = (batch_input.shape[0] * num_batches) / np.sum(batch_times)\n",
    "print(f\"Batch Throughput: {batch_fps:.2f} FPS\")\n"
   ]
  },
  {
   "cell_type": "code",
   "execution_count": 17,
   "metadata": {
    "collapsed": false,
    "jupyter": {
     "outputs_hidden": false
    }
   },
   "outputs": [
    {
     "name": "stdout",
     "output_type": "stream",
     "text": [
      "Model1 Stats: \n",
      "Model1 Size on Disk: 3.55 MB\n",
      "Test R^2: 0.1917, Test RMSE: 14.2086, Test Model MSE Loss: 201.8852\n",
      "\n",
      "\n",
      "Model2 Stats: \n",
      "Model2 Size on Disk: 2.93 MB\n",
      "Test R^2: 0.4043, Test RMSE: 1175.3316, Test Model MSE Loss: 1381404.3058\n",
      "Inference Latency (single sample, median): 0.14 ms\n",
      "Inference Latency (single sample, 95th percentile): 0.26 ms\n",
      "Inference Latency (single sample, 99th percentile): 1.16 ms\n",
      "Inference Throughput (single sample): 5475.59 FPS\n",
      "Batch Throughput: 47719.14 FPS\n"
     ]
    }
   ],
   "source": [
    "print('Model1 Stats: ')\n",
    "print(f\"Model1 Size on Disk: {model1_size/ (1e6) :.2f} MB\")\n",
    "print(f\"Test R^2: {test1_r2:.4f}, Test RMSE: {test1_rmse:.4f}, Test Model MSE Loss: {test1_loss:.4f}\")\n",
    "print('\\n')\n",
    "print('Model2 Stats: ')\n",
    "print(f\"Model2 Size on Disk: {model2_size/ (1e6) :.2f} MB\")\n",
    "print(f\"Test R^2: {test2_r2:.4f}, Test RMSE: {test2_rmse:.4f}, Test Model MSE Loss: {test2_loss:.4f}\")\n",
    "\n",
    "print(f\"Inference Latency (single sample, median): {np.percentile(latencies, 50) * 1000:.2f} ms\")\n",
    "print(f\"Inference Latency (single sample, 95th percentile): {np.percentile(latencies, 95) * 1000:.2f} ms\")\n",
    "print(f\"Inference Latency (single sample, 99th percentile): {np.percentile(latencies, 99) * 1000:.2f} ms\")\n",
    "print(f\"Inference Throughput (single sample): {num_trials/np.sum(latencies):.2f} FPS\")\n",
    "print(f\"Batch Throughput: {batch_fps:.2f} FPS\")"
   ]
  },
  {
   "cell_type": "code",
   "execution_count": null,
   "metadata": {},
   "outputs": [],
   "source": []
  }
 ],
 "metadata": {
  "kernelspec": {
   "display_name": "Python 3 (ipykernel)",
   "language": "python",
   "name": "python3"
  },
  "language_info": {
   "codemirror_mode": {
    "name": "ipython",
    "version": 3
   },
   "file_extension": ".py",
   "mimetype": "text/x-python",
   "name": "python",
   "nbconvert_exporter": "python",
   "pygments_lexer": "ipython3",
   "version": "3.12.8"
  }
 },
 "nbformat": 4,
 "nbformat_minor": 4
}
