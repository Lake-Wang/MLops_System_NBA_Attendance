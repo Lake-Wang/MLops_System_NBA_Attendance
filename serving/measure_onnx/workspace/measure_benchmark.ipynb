{
 "cells": [
  {
   "cell_type": "code",
   "execution_count": 1,
   "metadata": {},
   "outputs": [],
   "source": [
    "import os\n",
    "import time\n",
    "from utils import *"
   ]
  },
  {
   "cell_type": "code",
   "execution_count": 16,
   "metadata": {},
   "outputs": [
    {
     "name": "stderr",
     "output_type": "stream",
     "text": [
      "/tmp/ipykernel_177/1900405963.py:4: FutureWarning: You are using `torch.load` with `weights_only=False` (the current default value), which uses the default pickle module implicitly. It is possible to construct malicious pickle data which will execute arbitrary code during unpickling (See https://github.com/pytorch/pytorch/blob/main/SECURITY.md#untrusted-models for more details). In a future release, the default value for `weights_only` will be flipped to `True`. This limits the functions that could be executed during unpickling. Arbitrary objects will no longer be allowed to be loaded via this mode unless they are explicitly allowlisted by the user via `torch.serialization.add_safe_globals`. We recommend you start setting `weights_only=True` for any use case where you don't have full control of the loaded file. Please open an issue on GitHub for any issues related to this experimental feature.\n",
      "  model1 = torch.load(model1_path, map_location=device)\n",
      "/tmp/ipykernel_177/1900405963.py:6: FutureWarning: You are using `torch.load` with `weights_only=False` (the current default value), which uses the default pickle module implicitly. It is possible to construct malicious pickle data which will execute arbitrary code during unpickling (See https://github.com/pytorch/pytorch/blob/main/SECURITY.md#untrusted-models for more details). In a future release, the default value for `weights_only` will be flipped to `True`. This limits the functions that could be executed during unpickling. Arbitrary objects will no longer be allowed to be loaded via this mode unless they are explicitly allowlisted by the user via `torch.serialization.add_safe_globals`. We recommend you start setting `weights_only=True` for any use case where you don't have full control of the loaded file. Please open an issue on GitHub for any issues related to this experimental feature.\n",
      "  model2 = torch.load(model2_path, map_location=device)\n"
     ]
    },
    {
     "data": {
      "text/plain": [
       "MLP(\n",
       "  (model): Sequential(\n",
       "    (0): Linear(in_features=40, out_features=1024, bias=True)\n",
       "    (1): ReLU()\n",
       "    (2): Dropout(p=0.2, inplace=False)\n",
       "    (3): Linear(in_features=1024, out_features=512, bias=True)\n",
       "    (4): ReLU()\n",
       "    (5): Dropout(p=0.2, inplace=False)\n",
       "    (6): Linear(in_features=512, out_features=256, bias=True)\n",
       "    (7): ReLU()\n",
       "    (8): Dropout(p=0.2, inplace=False)\n",
       "    (9): Linear(in_features=256, out_features=128, bias=True)\n",
       "    (10): ReLU()\n",
       "    (11): Dropout(p=0.2, inplace=False)\n",
       "    (12): Linear(in_features=128, out_features=1, bias=True)\n",
       "  )\n",
       ")"
      ]
     },
     "execution_count": 16,
     "metadata": {},
     "output_type": "execute_result"
    }
   ],
   "source": [
    "model1_path = \"models/point_diff.pth\"\n",
    "model2_path = \"models/attendance_model.pth\"\n",
    "device = torch.device(\"cuda\" if torch.cuda.is_available() else \"cpu\")\n",
    "model1 = torch.load(model1_path, map_location=device)\n",
    "model1.eval()\n",
    "model2 = torch.load(model2_path, map_location=device)\n",
    "model2.eval()"
   ]
  },
  {
   "cell_type": "code",
   "execution_count": 17,
   "metadata": {},
   "outputs": [],
   "source": [
    "# Read data\n",
    "base_data_dir = os.getenv(\"NBA_DATA_DIR\", \"nba_data\")\n",
    "\n",
    "X1_train = pd.read_csv(os.path.join(base_data_dir, 'train/X_train_model1.csv'))\n",
    "X1_train = X1_train.drop('gameId', axis=1)\n",
    "X1_test = pd.read_csv(os.path.join(base_data_dir, 'test/X_test_model1.csv'))\n",
    "X1_test = X1_test.drop('gameId', axis=1)\n",
    "\n",
    "Y1_train = pd.read_csv(os.path.join(base_data_dir, 'train/Y_train_model1.csv'))\n",
    "Y1_test = pd.read_csv(os.path.join(base_data_dir, 'test/Y_test_model1.csv'))\n",
    "full1_df = pd.read_csv(os.path.join(base_data_dir, 'train/full_stats.csv'))\n",
    "\n",
    "X_save_cols = X1_train.columns\n",
    "\n",
    "# Convert to tensors, pass to dataloader\n",
    "X1_train = torch.tensor(X1_train.values, dtype=torch.float32)\n",
    "X1_test = torch.tensor(X1_test.values, dtype=torch.float32)\n",
    "Y1_train = torch.tensor(Y1_train.values, dtype=torch.float32)\n",
    "Y1_test = torch.tensor(Y1_test.values, dtype=torch.float32)\n",
    "\n",
    "train1_data = TensorDataset(X1_train, Y1_train)\n",
    "test1_data = TensorDataset(X1_test, Y1_test)\n",
    "\n",
    "train1_loader = DataLoader(train1_data, batch_size=32, shuffle=True)\n",
    "test1_loader = DataLoader(test1_data, batch_size=32, shuffle=False)\n",
    "\n",
    "game_ids = full1_df['gameId'].values"
   ]
  },
  {
   "cell_type": "code",
   "execution_count": 18,
   "metadata": {},
   "outputs": [
    {
     "data": {
      "text/plain": [
       "Index(['fieldGoalsMade_season_avg', 'fieldGoalsMade_past_5_avg',\n",
       "       'fieldGoalsAttempted_season_avg', 'fieldGoalsAttempted_past_5_avg',\n",
       "       'fieldGoalsPercentage_season_avg', 'fieldGoalsPercentage_past_5_avg',\n",
       "       'threePointersMade_season_avg', 'threePointersMade_past_5_avg',\n",
       "       'threePointersAttempted_season_avg',\n",
       "       'threePointersAttempted_past_5_avg',\n",
       "       ...\n",
       "       'opp_teamTurnoverPercentage_season_avg',\n",
       "       'opp_teamTurnoverPercentage_past_5_avg',\n",
       "       'opp_oppEffectiveFieldGoalPercentage_season_avg',\n",
       "       'opp_oppEffectiveFieldGoalPercentage_past_5_avg',\n",
       "       'opp_oppFreeThrowAttemptRate_season_avg',\n",
       "       'opp_oppFreeThrowAttemptRate_past_5_avg',\n",
       "       'opp_oppTeamTurnoverPercentage_season_avg',\n",
       "       'opp_oppTeamTurnoverPercentage_past_5_avg',\n",
       "       'opp_oppOffensiveReboundPercentage_season_avg',\n",
       "       'opp_oppOffensiveReboundPercentage_past_5_avg'],\n",
       "      dtype='object', length=192)"
      ]
     },
     "execution_count": 18,
     "metadata": {},
     "output_type": "execute_result"
    }
   ],
   "source": [
    "X_save_cols"
   ]
  },
  {
   "cell_type": "code",
   "execution_count": 19,
   "metadata": {
    "collapsed": false,
    "jupyter": {
     "outputs_hidden": false
    }
   },
   "outputs": [],
   "source": [
    "predictions = []\n",
    "extract_df = full1_df[X_save_cols].values\n",
    "X_tensor = torch.FloatTensor(extract_df).to(device)\n",
    "with torch.no_grad():\n",
    "    # Processsing in batches\n",
    "    batch_size = 32\n",
    "\n",
    "    for i in range(0, len(X_tensor), batch_size):\n",
    "        batch = X_tensor[i:i+batch_size]\n",
    "\n",
    "        # FF, convert to numpy\n",
    "        batch_preds = model1(batch)\n",
    "        predictions.append(batch_preds.cpu().numpy())\n",
    "\n",
    "# Combine all predictions\n",
    "all_predictions = np.concatenate(predictions, axis=0)\n",
    "\n",
    "# Return results\n",
    "result_df = pd.DataFrame({\n",
    "    'gameId': game_ids,\n",
    "    'predicted_point_diff': all_predictions.flatten()\n",
    "})\n",
    "\n"
   ]
  },
  {
   "cell_type": "code",
   "execution_count": 22,
   "metadata": {
    "collapsed": false,
    "jupyter": {
     "outputs_hidden": false
    }
   },
   "outputs": [],
   "source": [
    "X2_train = pd.read_csv(os.path.join(base_data_dir, 'train/X_train_model2.csv'))\n",
    "X2_test = pd.read_csv(os.path.join(base_data_dir, 'test/X_test_model2.csv'))\n",
    "Y2_train = pd.read_csv(os.path.join(base_data_dir, 'train/Y_train_model2.csv'))\n",
    "Y2_test = pd.read_csv(os.path.join(base_data_dir, 'test/Y_test_model2.csv'))\n",
    "\n",
    "X2_train = X2_train.merge(result_df, on='gameId', how='inner')\n",
    "X2_train = X2_train.drop('gameId', axis=1)\n",
    "X2_test = X2_test.merge(result_df, on='gameId', how='inner')\n",
    "X2_test = X2_test.drop('gameId', axis=1)\n",
    "full2_df = pd.read_csv(os.path.join(base_data_dir, 'train/full_attendance.csv'))\n",
    "full2_df = full2_df.merge(result_df, on='gameId', how='inner')\n",
    "\n",
    "X2_train = torch.tensor(X2_train.values, dtype=torch.float32)\n",
    "X2_test = torch.tensor(X2_test.values, dtype=torch.float32)\n",
    "Y2_train = torch.tensor(Y2_train.values, dtype=torch.float32)\n",
    "Y2_test = torch.tensor(Y2_test.values, dtype=torch.float32)\n",
    "\n",
    "train2_data = TensorDataset(X2_train, Y2_train)\n",
    "test2_data = TensorDataset(X2_test, Y2_test)\n",
    "train2_loader = DataLoader(train2_data, batch_size=32, shuffle=True)\n",
    "test2_loader = DataLoader(test2_data, batch_size=32, shuffle=False)"
   ]
  },
  {
   "cell_type": "code",
   "execution_count": 23,
   "metadata": {},
   "outputs": [
    {
     "name": "stdout",
     "output_type": "stream",
     "text": [
      "Model Size on Disk: 3.55 MB\n",
      "Model Size on Disk: 2.93 MB\n"
     ]
    }
   ],
   "source": [
    "model1_size = os.path.getsize(model1_path)\n",
    "model2_size = os.path.getsize(model2_path)\n",
    "print(f\"Model Size on Disk: {model1_size / 1e6:.2f} MB\")\n",
    "print(f\"Model Size on Disk: {model2_size / 1e6:.2f} MB\")"
   ]
  },
  {
   "cell_type": "code",
   "execution_count": 24,
   "metadata": {},
   "outputs": [
    {
     "name": "stdout",
     "output_type": "stream",
     "text": [
      "Test R^2: 0.1917, Test RMSE: 14.2086, Test Model MSE Loss: 201.8852\n",
      "Test R^2: 0.4043, Test RMSE: 1175.3316, Test Model MSE Loss: 1381404.3058\n"
     ]
    }
   ],
   "source": [
    "criterion = nn.MSELoss()\n",
    "\n",
    "test1_r2, test1_rmse, test1_loss = validate(model1, test1_loader, criterion, device)\n",
    "print(f\"Test R^2: {test1_r2:.4f}, Test RMSE: {test1_rmse:.4f}, Test Model MSE Loss: {test1_loss:.4f}\")\n",
    "test2_r2, test2_rmse, test2_loss = validate(model2, test2_loader, criterion, device)\n",
    "print(f\"Test R^2: {test2_r2:.4f}, Test RMSE: {test2_rmse:.4f}, Test Model MSE Loss: {test2_loss:.4f}\")"
   ]
  },
  {
   "cell_type": "code",
   "execution_count": 25,
   "metadata": {},
   "outputs": [],
   "source": [
    "num_trials = 100\n",
    "sample = X2_test[0].unsqueeze(0)\n",
    "\n",
    "# Warm-up\n",
    "with torch.no_grad():\n",
    "    model2(sample)\n",
    "\n",
    "latencies = []\n",
    "with torch.no_grad():\n",
    "    for _ in range(num_trials):\n",
    "        start = time.time()\n",
    "        _ = model2(sample)\n",
    "        latencies.append(time.time() - start)\n"
   ]
  },
  {
   "cell_type": "code",
   "execution_count": 26,
   "metadata": {},
   "outputs": [
    {
     "name": "stdout",
     "output_type": "stream",
     "text": [
      "Inference Latency (median): 0.36 ms\n",
      "Inference Latency (95th percentile): 0.42 ms\n",
      "Inference Latency (99th percentile): 0.47 ms\n",
      "Inference Throughput (single sample): 2721.98 FPS\n"
     ]
    }
   ],
   "source": [
    "print(f\"Inference Latency (median): {np.percentile(latencies, 50) * 1000:.2f} ms\")\n",
    "print(f\"Inference Latency (95th percentile): {np.percentile(latencies, 95) * 1000:.2f} ms\")\n",
    "print(f\"Inference Latency (99th percentile): {np.percentile(latencies, 99) * 1000:.2f} ms\")\n",
    "print(f\"Inference Throughput (single sample): {num_trials / np.sum(latencies):.2f} FPS\")\n"
   ]
  },
  {
   "cell_type": "code",
   "execution_count": 27,
   "metadata": {},
   "outputs": [
    {
     "name": "stdout",
     "output_type": "stream",
     "text": [
      "Batch Throughput: 30081.39 FPS\n"
     ]
    }
   ],
   "source": [
    "num_batches = 50\n",
    "batch_input = X2_test[:32]\n",
    "\n",
    "# Warm-up\n",
    "with torch.no_grad():\n",
    "    model2(batch_input)\n",
    "\n",
    "batch_times = []\n",
    "with torch.no_grad():\n",
    "    for _ in range(num_batches):\n",
    "        start = time.time()\n",
    "        _ = model2(batch_input)\n",
    "        batch_times.append(time.time() - start)\n",
    "\n",
    "batch_fps = (batch_input.shape[0] * num_batches) / np.sum(batch_times)\n",
    "print(f\"Batch Throughput: {batch_fps:.2f} FPS\")\n"
   ]
  },
  {
   "cell_type": "code",
   "execution_count": 28,
   "metadata": {
    "collapsed": false,
    "jupyter": {
     "outputs_hidden": false
    }
   },
   "outputs": [
    {
     "name": "stdout",
     "output_type": "stream",
     "text": [
      "Model1 Stats: \n",
      "Model1 Size on Disk: 3.55 MB\n",
      "Test R^2: 0.1917, Test RMSE: 14.2086, Test Model MSE Loss: 201.8852\n",
      "\n",
      "\n",
      "Model2 Stats: \n",
      "Model2 Size on Disk: 2.93 MB\n",
      "Test R^2: 0.4043, Test RMSE: 1175.3316, Test Model MSE Loss: 1381404.3058\n",
      "Inference Latency (single sample, median): 0.36 ms\n",
      "Inference Latency (single sample, 95th percentile): 0.42 ms\n",
      "Inference Latency (single sample, 99th percentile): 0.47 ms\n",
      "Inference Throughput (single sample): 2721.98 FPS\n",
      "Batch Throughput: 30081.39 FPS\n"
     ]
    }
   ],
   "source": [
    "print('Model1 Stats: ')\n",
    "print(f\"Model1 Size on Disk: {model1_size/ (1e6) :.2f} MB\")\n",
    "print(f\"Test R^2: {test1_r2:.4f}, Test RMSE: {test1_rmse:.4f}, Test Model MSE Loss: {test1_loss:.4f}\")\n",
    "print('\\n')\n",
    "print('Model2 Stats: ')\n",
    "print(f\"Model2 Size on Disk: {model2_size/ (1e6) :.2f} MB\")\n",
    "print(f\"Test R^2: {test2_r2:.4f}, Test RMSE: {test2_rmse:.4f}, Test Model MSE Loss: {test2_loss:.4f}\")\n",
    "\n",
    "print(f\"Inference Latency (single sample, median): {np.percentile(latencies, 50) * 1000:.2f} ms\")\n",
    "print(f\"Inference Latency (single sample, 95th percentile): {np.percentile(latencies, 95) * 1000:.2f} ms\")\n",
    "print(f\"Inference Latency (single sample, 99th percentile): {np.percentile(latencies, 99) * 1000:.2f} ms\")\n",
    "print(f\"Inference Throughput (single sample): {num_trials/np.sum(latencies):.2f} FPS\")\n",
    "print(f\"Batch Throughput: {batch_fps:.2f} FPS\")"
   ]
  },
  {
   "cell_type": "code",
   "execution_count": null,
   "metadata": {},
   "outputs": [],
   "source": []
  }
 ],
 "metadata": {
  "kernelspec": {
   "display_name": "Python 3 (ipykernel)",
   "language": "python",
   "name": "python3"
  },
  "language_info": {
   "codemirror_mode": {
    "name": "ipython",
    "version": 3
   },
   "file_extension": ".py",
   "mimetype": "text/x-python",
   "name": "python",
   "nbconvert_exporter": "python",
   "pygments_lexer": "ipython3",
   "version": "3.12.8"
  }
 },
 "nbformat": 4,
 "nbformat_minor": 4
}
