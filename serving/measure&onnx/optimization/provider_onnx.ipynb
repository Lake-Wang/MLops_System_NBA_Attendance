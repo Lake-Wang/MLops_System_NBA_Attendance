{
 "cells": [
  {
   "cell_type": "code",
   "execution_count": null,
   "id": "6fe404d1",
   "metadata": {},
   "outputs": [],
   "source": [
    "import os\n",
    "import time\n",
    "import numpy as np\n",
    "import pandas as pd\n",
    "import torch\n",
    "import onnx\n",
    "import onnxruntime as ort\n",
    "from torch.utils.data import DataLoader, TensorDataset\n",
    "from sklearn.preprocessing import StandardScaler\n"
   ]
  },
  {
   "cell_type": "code",
   "execution_count": null,
   "id": "5b544172",
   "metadata": {},
   "outputs": [],
   "source": [
    "csv_path = os.getenv(\"NBA_TEST_DATA\", \"nba_test.csv\")\n",
    "df = pd.read_csv(csv_path)\n",
    "\n",
    "X = df.drop(columns=['score_diff']).values\n",
    "y = df['score_diff'].values\n",
    "\n",
    "scaler = StandardScaler()\n",
    "X_scaled = scaler.fit_transform(X)\n",
    "\n",
    "X_tensor = torch.tensor(X_scaled, dtype=torch.float32)\n",
    "y_tensor = torch.tensor(y, dtype=torch.float32).unsqueeze(1)\n",
    "\n",
    "test_dataset = TensorDataset(X_tensor, y_tensor)\n",
    "test_loader = DataLoader(test_dataset, batch_size=32, shuffle=False)\n"
   ]
  },
  {
   "cell_type": "code",
   "execution_count": null,
   "id": "b4314288",
   "metadata": {},
   "outputs": [],
   "source": [
    "def benchmark_session(ort_session):\n",
    "    print(f\"Execution provider: {ort_session.get_providers()}\")\n",
    "\n",
    "    total_mae = 0\n",
    "    total = 0\n",
    "    for features, labels in test_loader:\n",
    "        outputs = ort_session.run(None, {ort_session.get_inputs()[0].name: features.numpy()})[0]\n",
    "        mae = np.abs(outputs - labels.numpy()).sum()\n",
    "        total_mae += mae\n",
    "        total += labels.size(0)\n",
    "    mae = total_mae / total\n",
    "    print(f\"Mean Absolute Error (MAE): {mae:.2f}\")\n",
    "\n",
    "    num_trials = 100\n",
    "    single_sample = X_tensor[0].unsqueeze(0).numpy()\n",
    "    ort_session.run(None, {ort_session.get_inputs()[0].name: single_sample})\n",
    "    latencies = []\n",
    "    for _ in range(num_trials):\n",
    "        start = time.time()\n",
    "        ort_session.run(None, {ort_session.get_inputs()[0].name: single_sample})\n",
    "        latencies.append(time.time() - start)\n",
    "    print(f\"Inference Latency (median): {np.percentile(latencies, 50) * 1000:.2f} ms\")\n",
    "    print(f\"Inference Throughput (single sample): {num_trials/np.sum(latencies):.2f} FPS\")\n",
    "\n",
    "    num_batches = 50\n",
    "    batch_input = X_tensor[:32].numpy()\n",
    "    ort_session.run(None, {ort_session.get_inputs()[0].name: batch_input})\n",
    "    batch_times = []\n",
    "    for _ in range(num_batches):\n",
    "        start = time.time()\n",
    "        ort_session.run(None, {ort_session.get_inputs()[0].name: batch_input})\n",
    "        batch_times.append(time.time() - start)\n",
    "    batch_fps = (batch_input.shape[0] * num_batches) / np.sum(batch_times)\n",
    "    print(f\"Batch Throughput: {batch_fps:.2f} FPS\")\n"
   ]
  },
  {
   "cell_type": "code",
   "execution_count": null,
   "id": "7ddbb15d",
   "metadata": {},
   "outputs": [],
   "source": [
    "onnx_model_path = \"models/nba_model.onnx\"\n",
    "ort_session = ort.InferenceSession(onnx_model_path, providers=['CPUExecutionProvider'])\n",
    "benchmark_session(ort_session)\n"
   ]
  },
  {
   "cell_type": "code",
   "execution_count": null,
   "id": "4fd9c5b7",
   "metadata": {},
   "outputs": [],
   "source": [
    "onnx_model_path = \"models/nba_model.onnx\"\n",
    "ort_session = ort.InferenceSession(onnx_model_path, providers=['CUDAExecutionProvider'])\n",
    "benchmark_session(ort_session)\n",
    "ort.get_device()\n"
   ]
  },
  {
   "cell_type": "code",
   "execution_count": null,
   "id": "378a641a",
   "metadata": {},
   "outputs": [],
   "source": [
    "onnx_model_path = \"models/nba_model.onnx\"\n",
    "ort_session = ort.InferenceSession(onnx_model_path, providers=['TensorrtExecutionProvider'])\n",
    "benchmark_session(ort_session)\n",
    "ort.get_device()\n"
   ]
  },
  {
   "cell_type": "code",
   "execution_count": null,
   "id": "6240cd62",
   "metadata": {},
   "outputs": [],
   "source": [
    "onnx_model_path = \"models/nba_model.onnx\"\n",
    "ort_session = ort.InferenceSession(onnx_model_path, providers=['OpenVINOExecutionProvider'])\n",
    "benchmark_session(ort_session)\n",
    "ort.get_device()\n"
   ]
  }
 ],
 "metadata": {
  "kernelspec": {
   "display_name": "Python 3 (ipykernel)",
   "language": "python",
   "name": "python3"
  },
  "language_info": {
   "codemirror_mode": {
    "name": "ipython",
    "version": "3"
   },
   "file_extension": ".py",
   "mimetype": "text/x-python",
   "name": "python"
  }
 },
 "nbformat": 4,
 "nbformat_minor": 4
}
