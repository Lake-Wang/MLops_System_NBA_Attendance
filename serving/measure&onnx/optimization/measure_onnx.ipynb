{
 "cells": [
  {
   "cell_type": "code",
   "execution_count": null,
   "metadata": {},
   "outputs": [],
   "source": [
    "import os\n",
    "import time\n",
    "import numpy as np\n",
    "import pandas as pd\n",
    "import torch\n",
    "import onnx\n",
    "import onnxruntime as ort\n",
    "from torch.utils.data import DataLoader, TensorDataset\n",
    "from sklearn.preprocessing import StandardScaler\n"
   ]
  },
  {
   "cell_type": "code",
   "execution_count": null,
   "metadata": {},
   "outputs": [],
   "source": [
    "csv_path = os.getenv(\"NBA_TEST_DATA\", \"nba_test.csv\")\n",
    "df = pd.read_csv(csv_path)\n",
    "\n",
    "# Assume 'score_diff' is the target column\n",
    "X = df.drop(columns=['score_diff']).values\n",
    "y = df['score_diff'].values\n",
    "\n",
    "scaler = StandardScaler()\n",
    "X_scaled = scaler.fit_transform(X)\n",
    "\n",
    "X_tensor = torch.tensor(X_scaled, dtype=torch.float32)\n",
    "y_tensor = torch.tensor(y, dtype=torch.float32).unsqueeze(1)\n",
    "\n",
    "test_dataset = TensorDataset(X_tensor, y_tensor)\n",
    "test_loader = DataLoader(test_dataset, batch_size=32, shuffle=False)\n"
   ]
  },
  {
   "cell_type": "code",
   "execution_count": null,
   "metadata": {},
   "outputs": [],
   "source": [
    "model_path = \"models/nba_model.pt\"\n",
    "device = torch.device(\"cpu\")\n",
    "model = torch.load(model_path, map_location=device)\n",
    "model.eval()\n",
    "\n",
    "onnx_model_path = \"models/nba_model.onnx\"\n",
    "dummy_input = torch.randn(1, X.shape[1], dtype=torch.float32)\n",
    "\n",
    "torch.onnx.export(model, dummy_input, onnx_model_path,\n",
    "                  export_params=True, opset_version=20,\n",
    "                  do_constant_folding=True, input_names=['input'],\n",
    "                  output_names=['output'], dynamic_axes={\"input\": {0: \"batch_size\"}, \"output\": {0: \"batch_size\"}})\n",
    "\n",
    "print(f\"ONNX model saved to {onnx_model_path}\")\n",
    "\n",
    "onnx_model = onnx.load(onnx_model_path)\n",
    "onnx.checker.check_model(onnx_model)\n"
   ]
  },
  {
   "cell_type": "code",
   "execution_count": null,
   "metadata": {},
   "outputs": [],
   "source": [
    "onnx_model_path = \"models/nba_model.onnx\"\n",
    "ort_session = ort.InferenceSession(onnx_model_path, providers=['CPUExecutionProvider'])\n"
   ]
  },
  {
   "cell_type": "code",
   "execution_count": null,
   "metadata": {},
   "outputs": [],
   "source": [
    "total_mae = 0\n",
    "total = 0\n",
    "for features, labels in test_loader:\n",
    "    outputs = ort_session.run(None, {ort_session.get_inputs()[0].name: features.numpy()})[0]\n",
    "    mae = np.abs(outputs - labels.numpy()).sum()\n",
    "    total_mae += mae\n",
    "    total += labels.size(0)\n",
    "\n",
    "accuracy = total_mae / total\n"
   ]
  },
  {
   "cell_type": "code",
   "execution_count": null,
   "metadata": {},
   "outputs": [],
   "source": [
    "print(f\"Mean Absolute Error (MAE): {accuracy:.2f}\")\n"
   ]
  },
  {
   "cell_type": "code",
   "execution_count": null,
   "metadata": {},
   "outputs": [],
   "source": [
    "model_size = os.path.getsize(onnx_model_path)\n",
    "print(f\"Model Size on Disk: {model_size / 1e6:.2f} MB\")\n"
   ]
  },
  {
   "cell_type": "code",
   "execution_count": null,
   "metadata": {},
   "outputs": [],
   "source": [
    "num_trials = 100\n",
    "single_sample = X_tensor[0].unsqueeze(0).numpy()\n",
    "\n",
    "# Warm-up\n",
    "ort_session.run(None, {ort_session.get_inputs()[0].name: single_sample})\n",
    "\n",
    "latencies = []\n",
    "for _ in range(num_trials):\n",
    "    start_time = time.time()\n",
    "    ort_session.run(None, {ort_session.get_inputs()[0].name: single_sample})\n",
    "    latencies.append(time.time() - start_time)\n"
   ]
  },
  {
   "cell_type": "code",
   "execution_count": null,
   "metadata": {},
   "outputs": [],
   "source": [
    "print(f\"Inference Latency (median): {np.percentile(latencies, 50) * 1000:.2f} ms\")\n",
    "print(f\"Inference Latency (95th percentile): {np.percentile(latencies, 95) * 1000:.2f} ms\")\n",
    "print(f\"Inference Latency (99th percentile): {np.percentile(latencies, 99) * 1000:.2f} ms\")\n",
    "print(f\"Inference Throughput (single sample): {num_trials / np.sum(latencies):.2f} FPS\")\n"
   ]
  },
  {
   "cell_type": "code",
   "execution_count": null,
   "metadata": {},
   "outputs": [],
   "source": [
    "num_batches = 50\n",
    "batch_input = X_tensor[:32].numpy()\n",
    "\n",
    "# Warm-up\n",
    "ort_session.run(None, {ort_session.get_inputs()[0].name: batch_input})\n",
    "\n",
    "batch_times = []\n",
    "for _ in range(num_batches):\n",
    "    start_time = time.time()\n",
    "    ort_session.run(None, {ort_session.get_inputs()[0].name: batch_input})\n",
    "    batch_times.append(time.time() - start_time)\n",
    "\n",
    "batch_fps = (batch_input.shape[0] * num_batches) / np.sum(batch_times)\n",
    "print(f\"Batch Throughput: {batch_fps:.2f} FPS\")\n"
   ]
  },
  {
   "cell_type": "code",
   "execution_count": null,
   "outputs": [],
   "source": [
    "print(f\"Mean Absolute Error (MAE): {accuracy:.2f}\")\n",
    "print(f\"Model Size on Disk: {model_size/ (1e6) :.2f} MB\")\n",
    "print(f\"Inference Latency (single sample, median): {np.percentile(latencies, 50) * 1000:.2f} ms\")\n",
    "print(f\"Inference Latency (single sample, 95th percentile): {np.percentile(latencies, 95) * 1000:.2f} ms\")\n",
    "print(f\"Inference Latency (single sample, 99th percentile): {np.percentile(latencies, 99) * 1000:.2f} ms\")\n",
    "print(f\"Inference Throughput (single sample): {num_trials/np.sum(latencies):.2f} FPS\")\n",
    "print(f\"Batch Throughput: {batch_fps:.2f} FPS\")"
   ],
   "metadata": {
    "collapsed": false
   }
  }
 ],
 "metadata": {
  "kernelspec": {
   "display_name": "Python 3 (ipykernel)",
   "language": "python",
   "name": "python3"
  },
  "language_info": {
   "codemirror_mode": {
    "name": "ipython",
    "version": "3"
   },
   "file_extension": ".py",
   "mimetype": "text/x-python",
   "name": "python"
  }
 },
 "nbformat": 4,
 "nbformat_minor": 4
}
