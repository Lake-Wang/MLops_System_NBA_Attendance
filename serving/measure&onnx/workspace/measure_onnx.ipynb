{
 "cells": [
  {
   "cell_type": "code",
   "execution_count": null,
   "metadata": {},
   "outputs": [],
   "source": [
    "import os\n",
    "import time\n",
    "import onnx\n",
    "import onnxruntime as ort\n",
    "from utils import *"
   ]
  },
  {
   "cell_type": "code",
   "execution_count": null,
   "metadata": {},
   "outputs": [],
   "source": [
    "# Read data\n",
    "base_data_dir = os.getenv(\"NBA_DATA_DIR\", \"nba_data\")\n",
    "\n",
    "X1_train = pd.read_csv(os.path.join(base_data_dir, 'train/X_train_model1.csv'))\n",
    "X1_test = pd.read_csv(os.path.join(base_data_dir, 'train/X_test_model1.csv'))\n",
    "Y1_train = pd.read_csv(os.path.join(base_data_dir, 'train/Y_train_model1.csv'))\n",
    "Y1_test = pd.read_csv(os.path.join(base_data_dir, 'train/Y_test_model1.csv'))\n",
    "full1_df = pd.read_csv(os.path.join(base_data_dir, 'train/full_stats.csv'))\n",
    "\n",
    "# Convert to tensors, pass to dataloader\n",
    "X1_train = torch.tensor(X1_train.values, dtype=torch.float32)\n",
    "X1_test = torch.tensor(X1_test.values, dtype=torch.float32)\n",
    "Y1_train = torch.tensor(Y1_train.values, dtype=torch.float32)\n",
    "Y1_test = torch.tensor(Y1_test.values, dtype=torch.float32)\n",
    "\n",
    "train1_data = TensorDataset(X1_train, Y1_train)\n",
    "test1_data = TensorDataset(X1_test, Y1_test)\n",
    "\n",
    "train1_loader = DataLoader(train1_data, batch_size=32, shuffle=True)\n",
    "test1_loader = DataLoader(test1_data, batch_size=32, shuffle=False)\n",
    "\n",
    "game_ids = full1_df['gameId'].values\n"
   ]
  },
  {
   "cell_type": "code",
   "execution_count": null,
   "outputs": [],
   "source": [
    "model_path = \"models/point_diff.pth\"\n",
    "device = torch.device(\"cuda\" if torch.cuda.is_available() else \"cpu\")\n",
    "model1 = torch.load(model_path, map_location=device)\n",
    "model1.eval()\n",
    "\n",
    "onnx_model1_path = \"models/model1.onnx\"\n",
    "dummy_input = torch.randn(1, X1_test.shape[1], dtype=torch.float32)\n",
    "\n",
    "torch.onnx.export(model1, dummy_input, onnx_model1_path,\n",
    "                  export_params=True, opset_version=20,\n",
    "                  do_constant_folding=True, input_names=['input'],\n",
    "                  output_names=['output'], dynamic_axes={\"input\": {0: \"batch_size\"}, \"output\": {0: \"batch_size\"}})\n",
    "\n",
    "print(f\"ONNX model saved to {onnx_model1_path}\")\n",
    "\n",
    "onnx_model1 = onnx.load(onnx_model1_path)\n",
    "onnx.checker.check_model(onnx_model1)"
   ],
   "metadata": {
    "collapsed": false
   }
  },
  {
   "cell_type": "code",
   "execution_count": null,
   "outputs": [],
   "source": [
    "predictions = []\n",
    "with torch.no_grad():\n",
    "    # Processsing in batches\n",
    "    batch_size = 32\n",
    "\n",
    "    for i in range(0, len(X1_test), batch_size):\n",
    "        batch = X1_test[i:i+batch_size]\n",
    "\n",
    "        # FF, convert to numpy\n",
    "        batch_preds = model1(batch)\n",
    "        predictions.append(batch_preds.cpu().numpy())\n",
    "\n",
    "# Combine all predictions\n",
    "all_predictions = np.concatenate(predictions, axis=0)\n",
    "\n",
    "# Return results\n",
    "result_df = pd.DataFrame({\n",
    "    'gameId': game_ids,\n",
    "    'predicted_point_diff': all_predictions.flatten()\n",
    "})"
   ],
   "metadata": {
    "collapsed": false
   }
  },
  {
   "cell_type": "code",
   "execution_count": null,
   "outputs": [],
   "source": [
    "X2_train = pd.read_csv(os.path.join(base_data_dir, 'train/X_train_model2.csv'))\n",
    "X2_test = pd.read_csv(os.path.join(base_data_dir, 'test/X_test_model2.csv'))\n",
    "Y2_train = pd.read_csv(os.path.join(base_data_dir, 'train/Y_train_model2.csv'))\n",
    "Y2_test = pd.read_csv(os.path.join(base_data_dir, 'test/Y_test_model2.csv'))\n",
    "\n",
    "X2_train = X2_train.merge(result_df, on='gameId', how='inner')\n",
    "X2_train = X2_train.drop('gameId', axis=1)\n",
    "X2_test = X2_test.merge(result_df, on='gameId', how='inner')\n",
    "X2_test = X2_test.drop('gameId', axis=1)\n",
    "full2_df = pd.read_csv(os.path.join(base_data_dir, 'train/full_attendance.csv'))\n",
    "full2_df = full2_df.merge(result_df, on='gameId', how='inner')\n",
    "\n",
    "train2_data = TensorDataset(X2_train, Y2_train)\n",
    "test2_data = TensorDataset(X2_test, Y2_test)\n",
    "train2_loader = DataLoader(train2_data, batch_size=32, shuffle=True)\n",
    "test2_loader = DataLoader(test2_data, batch_size=32, shuffle=False)"
   ],
   "metadata": {
    "collapsed": false
   }
  },
  {
   "cell_type": "code",
   "execution_count": null,
   "outputs": [],
   "source": [
    "model_path = \"models/attendance_model.pth\"\n",
    "model2 = torch.load(model_path, map_location=device)\n",
    "model2.eval()\n",
    "\n",
    "onnx_model2_path = \"models/model2.onnx\"\n",
    "dummy_input = torch.randn(1, X2_test.shape[1], dtype=torch.float32)\n",
    "\n",
    "torch.onnx.export(model2, dummy_input, onnx_model2_path,\n",
    "                  export_params=True, opset_version=20,\n",
    "                  do_constant_folding=True, input_names=['input'],\n",
    "                  output_names=['output'], dynamic_axes={\"input\": {0: \"batch_size\"}, \"output\": {0: \"batch_size\"}})\n",
    "\n",
    "print(f\"ONNX model saved to {onnx_model2_path}\")\n",
    "\n",
    "onnx_model2 = onnx.load(onnx_model2_path)\n",
    "onnx.checker.check_model(onnx_model2)"
   ],
   "metadata": {
    "collapsed": false
   }
  },
  {
   "cell_type": "code",
   "execution_count": null,
   "outputs": [],
   "source": [
    "model1_size = os.path.getsize(onnx_model1_path)\n",
    "model2_size = os.path.getsize(onnx_model2_path)\n",
    "print(f\"Model Size on Disk: {model1_size / 1e6:.2f} MB\")\n",
    "print(f\"Model Size on Disk: {model2_size / 1e6:.2f} MB\")"
   ],
   "metadata": {
    "collapsed": false
   }
  },
  {
   "cell_type": "code",
   "execution_count": null,
   "metadata": {},
   "outputs": [],
   "source": [
    "\n",
    "ort_session1 = ort.InferenceSession(onnx_model1_path, providers=['CPUExecutionProvider'])\n",
    "ort_session2 = ort.InferenceSession(onnx_model1_path, providers=['CPUExecutionProvider'])"
   ]
  },
  {
   "cell_type": "code",
   "execution_count": null,
   "metadata": {},
   "outputs": [],
   "source": [
    "criterion = nn.MSELoss()\n",
    "\n",
    "test1_r2, test1_rmse, test1_loss = validate(model1, test1_loader, criterion, device)\n",
    "print(f\"Test R^2: {test1_r2:.4f}, Test RMSE: {test1_rmse:.4f}, Test Model MSE Loss: {test1_loss:.4f}\")\n",
    "test2_r2, test2_rmse, test2_loss = validate(model2, test2_loader, criterion, device)\n",
    "print(f\"Test R^2: {test2_r2:.4f}, Test RMSE: {test2_rmse:.4f}, Test Model MSE Loss: {test2_loss:.4f}\")"
   ]
  },
  {
   "cell_type": "code",
   "execution_count": null,
   "metadata": {},
   "outputs": [],
   "source": [
    "num_trials = 100\n",
    "single_sample = X2_test[0].unsqueeze(0).numpy()\n",
    "\n",
    "# Warm-up\n",
    "ort_session2.run(None, {ort_session2.get_inputs()[0].name: single_sample})\n",
    "\n",
    "latencies = []\n",
    "for _ in range(num_trials):\n",
    "    start_time = time.time()\n",
    "    ort_session2.run(None, {ort_session2.get_inputs()[0].name: single_sample})\n",
    "    latencies.append(time.time() - start_time)\n"
   ]
  },
  {
   "cell_type": "code",
   "execution_count": null,
   "metadata": {},
   "outputs": [],
   "source": [
    "print(f\"Inference Latency (median): {np.percentile(latencies, 50) * 1000:.2f} ms\")\n",
    "print(f\"Inference Latency (95th percentile): {np.percentile(latencies, 95) * 1000:.2f} ms\")\n",
    "print(f\"Inference Latency (99th percentile): {np.percentile(latencies, 99) * 1000:.2f} ms\")\n",
    "print(f\"Inference Throughput (single sample): {num_trials / np.sum(latencies):.2f} FPS\")\n"
   ]
  },
  {
   "cell_type": "code",
   "execution_count": null,
   "metadata": {},
   "outputs": [],
   "source": [
    "num_batches = 50\n",
    "batch_input = X2_test[:32].numpy()\n",
    "\n",
    "# Warm-up\n",
    "ort_session2.run(None, {ort_session2.get_inputs()[0].name: batch_input})\n",
    "\n",
    "batch_times = []\n",
    "for _ in range(num_batches):\n",
    "    start_time = time.time()\n",
    "    ort_session2.run(None, {ort_session2.get_inputs()[0].name: batch_input})\n",
    "    batch_times.append(time.time() - start_time)\n",
    "\n",
    "batch_fps = (batch_input.shape[0] * num_batches) / np.sum(batch_times)\n",
    "print(f\"Batch Throughput: {batch_fps:.2f} FPS\")\n"
   ]
  },
  {
   "cell_type": "code",
   "execution_count": null,
   "outputs": [],
   "source": [
    "print('Model1 Stats: ')\n",
    "print(f\"Model1 Size on Disk: {model1_size/ (1e6) :.2f} MB\")\n",
    "print(f\"Test R^2: {test1_r2:.4f}, Test RMSE: {test1_rmse:.4f}, Test Model MSE Loss: {test1_loss:.4f}\")\n",
    "print('\\n')\n",
    "print('Model2 Stats: ')\n",
    "print(f\"Model2 Size on Disk: {model2_size/ (1e6) :.2f} MB\")\n",
    "print(f\"Test R^2: {test2_r2:.4f}, Test RMSE: {test2_rmse:.4f}, Test Model MSE Loss: {test2_loss:.4f}\")\n",
    "\n",
    "print(f\"Inference Latency (single sample, median): {np.percentile(latencies, 50) * 1000:.2f} ms\")\n",
    "print(f\"Inference Latency (single sample, 95th percentile): {np.percentile(latencies, 95) * 1000:.2f} ms\")\n",
    "print(f\"Inference Latency (single sample, 99th percentile): {np.percentile(latencies, 99) * 1000:.2f} ms\")\n",
    "print(f\"Inference Throughput (single sample): {num_trials/np.sum(latencies):.2f} FPS\")\n",
    "print(f\"Batch Throughput: {batch_fps:.2f} FPS\")"
   ],
   "metadata": {
    "collapsed": false
   }
  }
 ],
 "metadata": {
  "kernelspec": {
   "display_name": "Python 3 (ipykernel)",
   "language": "python",
   "name": "python3"
  },
  "language_info": {
   "codemirror_mode": {
    "name": "ipython",
    "version": "3"
   },
   "file_extension": ".py",
   "mimetype": "text/x-python",
   "name": "python"
  }
 },
 "nbformat": 4,
 "nbformat_minor": 4
}
